{
 "cells": [
  {
   "cell_type": "markdown",
   "metadata": {
    "collapsed": true
   },
   "source": [
    "# Selectin the Semeion data from following site - https://archive.ics.uci.edu/ml/machine-learning-databases/semeion/semeion.data "
   ]
  },
  {
   "cell_type": "code",
   "execution_count": 25,
   "metadata": {},
   "outputs": [
    {
     "data": {
      "text/html": [
       "<table>\n",
       "<thead><tr><th scope=col>V1</th><th scope=col>V2</th><th scope=col>V3</th><th scope=col>V4</th><th scope=col>V5</th><th scope=col>V6</th><th scope=col>V7</th><th scope=col>V8</th><th scope=col>V9</th><th scope=col>V10</th><th scope=col>...</th><th scope=col>V257</th><th scope=col>V258</th><th scope=col>V259</th><th scope=col>V260</th><th scope=col>V261</th><th scope=col>V262</th><th scope=col>V263</th><th scope=col>V264</th><th scope=col>V265</th><th scope=col>V266</th></tr></thead>\n",
       "<tbody>\n",
       "\t<tr><td>0  </td><td>0  </td><td>0  </td><td>0  </td><td>0  </td><td>0  </td><td>1  </td><td>1  </td><td>1  </td><td>1  </td><td>...</td><td>1  </td><td>0  </td><td>0  </td><td>0  </td><td>0  </td><td>0  </td><td>0  </td><td>0  </td><td>0  </td><td>0  </td></tr>\n",
       "\t<tr><td>0  </td><td>0  </td><td>0  </td><td>0  </td><td>0  </td><td>1  </td><td>1  </td><td>1  </td><td>1  </td><td>1  </td><td>...</td><td>1  </td><td>0  </td><td>0  </td><td>0  </td><td>0  </td><td>0  </td><td>0  </td><td>0  </td><td>0  </td><td>0  </td></tr>\n",
       "\t<tr><td>0  </td><td>0  </td><td>0  </td><td>0  </td><td>0  </td><td>0  </td><td>0  </td><td>0  </td><td>0  </td><td>1  </td><td>...</td><td>1  </td><td>0  </td><td>0  </td><td>0  </td><td>0  </td><td>0  </td><td>0  </td><td>0  </td><td>0  </td><td>0  </td></tr>\n",
       "\t<tr><td>0  </td><td>0  </td><td>0  </td><td>0  </td><td>0  </td><td>0  </td><td>1  </td><td>1  </td><td>1  </td><td>1  </td><td>...</td><td>1  </td><td>0  </td><td>0  </td><td>0  </td><td>0  </td><td>0  </td><td>0  </td><td>0  </td><td>0  </td><td>0  </td></tr>\n",
       "\t<tr><td>0  </td><td>0  </td><td>0  </td><td>0  </td><td>0  </td><td>0  </td><td>0  </td><td>0  </td><td>0  </td><td>1  </td><td>...</td><td>1  </td><td>0  </td><td>0  </td><td>0  </td><td>0  </td><td>0  </td><td>0  </td><td>0  </td><td>0  </td><td>0  </td></tr>\n",
       "\t<tr><td>0  </td><td>0  </td><td>0  </td><td>0  </td><td>1  </td><td>1  </td><td>1  </td><td>1  </td><td>1  </td><td>1  </td><td>...</td><td>1  </td><td>0  </td><td>0  </td><td>0  </td><td>0  </td><td>0  </td><td>0  </td><td>0  </td><td>0  </td><td>0  </td></tr>\n",
       "</tbody>\n",
       "</table>\n"
      ],
      "text/latex": [
       "\\begin{tabular}{r|llllllllllllllllllllllllllllllllllllllllllllllllllllllllllllllllllllllllllllllllllllllllllllllllllllllllllllllllllllllllllllllllllllllllllllllllllllllllllllllllllllllllllllllllllllllllllllllllllllllllllllllllllllllllllllllllllllllllllllllllllllllllllllllllllllllllll}\n",
       " V1 & V2 & V3 & V4 & V5 & V6 & V7 & V8 & V9 & V10 & ... & V257 & V258 & V259 & V260 & V261 & V262 & V263 & V264 & V265 & V266\\\\\n",
       "\\hline\n",
       "\t 0   & 0   & 0   & 0   & 0   & 0   & 1   & 1   & 1   & 1   & ... & 1   & 0   & 0   & 0   & 0   & 0   & 0   & 0   & 0   & 0  \\\\\n",
       "\t 0   & 0   & 0   & 0   & 0   & 1   & 1   & 1   & 1   & 1   & ... & 1   & 0   & 0   & 0   & 0   & 0   & 0   & 0   & 0   & 0  \\\\\n",
       "\t 0   & 0   & 0   & 0   & 0   & 0   & 0   & 0   & 0   & 1   & ... & 1   & 0   & 0   & 0   & 0   & 0   & 0   & 0   & 0   & 0  \\\\\n",
       "\t 0   & 0   & 0   & 0   & 0   & 0   & 1   & 1   & 1   & 1   & ... & 1   & 0   & 0   & 0   & 0   & 0   & 0   & 0   & 0   & 0  \\\\\n",
       "\t 0   & 0   & 0   & 0   & 0   & 0   & 0   & 0   & 0   & 1   & ... & 1   & 0   & 0   & 0   & 0   & 0   & 0   & 0   & 0   & 0  \\\\\n",
       "\t 0   & 0   & 0   & 0   & 1   & 1   & 1   & 1   & 1   & 1   & ... & 1   & 0   & 0   & 0   & 0   & 0   & 0   & 0   & 0   & 0  \\\\\n",
       "\\end{tabular}\n"
      ],
      "text/markdown": [
       "\n",
       "V1 | V2 | V3 | V4 | V5 | V6 | V7 | V8 | V9 | V10 | ... | V257 | V258 | V259 | V260 | V261 | V262 | V263 | V264 | V265 | V266 | \n",
       "|---|---|---|---|---|---|\n",
       "| 0   | 0   | 0   | 0   | 0   | 0   | 1   | 1   | 1   | 1   | ... | 1   | 0   | 0   | 0   | 0   | 0   | 0   | 0   | 0   | 0   | \n",
       "| 0   | 0   | 0   | 0   | 0   | 1   | 1   | 1   | 1   | 1   | ... | 1   | 0   | 0   | 0   | 0   | 0   | 0   | 0   | 0   | 0   | \n",
       "| 0   | 0   | 0   | 0   | 0   | 0   | 0   | 0   | 0   | 1   | ... | 1   | 0   | 0   | 0   | 0   | 0   | 0   | 0   | 0   | 0   | \n",
       "| 0   | 0   | 0   | 0   | 0   | 0   | 1   | 1   | 1   | 1   | ... | 1   | 0   | 0   | 0   | 0   | 0   | 0   | 0   | 0   | 0   | \n",
       "| 0   | 0   | 0   | 0   | 0   | 0   | 0   | 0   | 0   | 1   | ... | 1   | 0   | 0   | 0   | 0   | 0   | 0   | 0   | 0   | 0   | \n",
       "| 0   | 0   | 0   | 0   | 1   | 1   | 1   | 1   | 1   | 1   | ... | 1   | 0   | 0   | 0   | 0   | 0   | 0   | 0   | 0   | 0   | \n",
       "\n",
       "\n"
      ],
      "text/plain": [
       "  V1 V2 V3 V4 V5 V6 V7 V8 V9 V10 ... V257 V258 V259 V260 V261 V262 V263 V264\n",
       "1 0  0  0  0  0  0  1  1  1  1   ... 1    0    0    0    0    0    0    0   \n",
       "2 0  0  0  0  0  1  1  1  1  1   ... 1    0    0    0    0    0    0    0   \n",
       "3 0  0  0  0  0  0  0  0  0  1   ... 1    0    0    0    0    0    0    0   \n",
       "4 0  0  0  0  0  0  1  1  1  1   ... 1    0    0    0    0    0    0    0   \n",
       "5 0  0  0  0  0  0  0  0  0  1   ... 1    0    0    0    0    0    0    0   \n",
       "6 0  0  0  0  1  1  1  1  1  1   ... 1    0    0    0    0    0    0    0   \n",
       "  V265 V266\n",
       "1 0    0   \n",
       "2 0    0   \n",
       "3 0    0   \n",
       "4 0    0   \n",
       "5 0    0   \n",
       "6 0    0   "
      ]
     },
     "metadata": {},
     "output_type": "display_data"
    }
   ],
   "source": [
    "library(data.table)\n",
    "\n",
    "\n",
    "mydat <- fread('https://archive.ics.uci.edu/ml/machine-learning-databases/semeion/semeion.data')\n",
    "head(mydat)\n",
    "\n",
    "semeion<-mydat[,1:256]\n",
    "dataVal<-mydat[,257:266]\n",
    "\n"
   ]
  },
  {
   "cell_type": "code",
   "execution_count": 26,
   "metadata": {},
   "outputs": [
    {
     "data": {
      "text/html": [
       "<table>\n",
       "<thead><tr><th scope=col>V1</th><th scope=col>V2</th><th scope=col>V3</th><th scope=col>V4</th><th scope=col>V5</th><th scope=col>V6</th><th scope=col>V7</th><th scope=col>V8</th><th scope=col>V9</th><th scope=col>V10</th><th scope=col>...</th><th scope=col>V257</th><th scope=col>V258</th><th scope=col>V259</th><th scope=col>V260</th><th scope=col>V261</th><th scope=col>V262</th><th scope=col>V263</th><th scope=col>V264</th><th scope=col>V265</th><th scope=col>V266</th></tr></thead>\n",
       "<tbody>\n",
       "\t<tr><td>0  </td><td>0  </td><td>0  </td><td>0  </td><td>0  </td><td>0  </td><td>1  </td><td>1  </td><td>1  </td><td>1  </td><td>...</td><td>1  </td><td>0  </td><td>0  </td><td>0  </td><td>0  </td><td>0  </td><td>0  </td><td>0  </td><td>0  </td><td>0  </td></tr>\n",
       "\t<tr><td>0  </td><td>0  </td><td>0  </td><td>0  </td><td>0  </td><td>1  </td><td>1  </td><td>1  </td><td>1  </td><td>1  </td><td>...</td><td>1  </td><td>0  </td><td>0  </td><td>0  </td><td>0  </td><td>0  </td><td>0  </td><td>0  </td><td>0  </td><td>0  </td></tr>\n",
       "\t<tr><td>0  </td><td>0  </td><td>0  </td><td>0  </td><td>0  </td><td>0  </td><td>0  </td><td>0  </td><td>0  </td><td>1  </td><td>...</td><td>1  </td><td>0  </td><td>0  </td><td>0  </td><td>0  </td><td>0  </td><td>0  </td><td>0  </td><td>0  </td><td>0  </td></tr>\n",
       "\t<tr><td>0  </td><td>0  </td><td>0  </td><td>0  </td><td>0  </td><td>0  </td><td>1  </td><td>1  </td><td>1  </td><td>1  </td><td>...</td><td>1  </td><td>0  </td><td>0  </td><td>0  </td><td>0  </td><td>0  </td><td>0  </td><td>0  </td><td>0  </td><td>0  </td></tr>\n",
       "</tbody>\n",
       "</table>\n"
      ],
      "text/latex": [
       "\\begin{tabular}{r|llllllllllllllllllllllllllllllllllllllllllllllllllllllllllllllllllllllllllllllllllllllllllllllllllllllllllllllllllllllllllllllllllllllllllllllllllllllllllllllllllllllllllllllllllllllllllllllllllllllllllllllllllllllllllllllllllllllllllllllllllllllllllllllllllllllllll}\n",
       " V1 & V2 & V3 & V4 & V5 & V6 & V7 & V8 & V9 & V10 & ... & V257 & V258 & V259 & V260 & V261 & V262 & V263 & V264 & V265 & V266\\\\\n",
       "\\hline\n",
       "\t 0   & 0   & 0   & 0   & 0   & 0   & 1   & 1   & 1   & 1   & ... & 1   & 0   & 0   & 0   & 0   & 0   & 0   & 0   & 0   & 0  \\\\\n",
       "\t 0   & 0   & 0   & 0   & 0   & 1   & 1   & 1   & 1   & 1   & ... & 1   & 0   & 0   & 0   & 0   & 0   & 0   & 0   & 0   & 0  \\\\\n",
       "\t 0   & 0   & 0   & 0   & 0   & 0   & 0   & 0   & 0   & 1   & ... & 1   & 0   & 0   & 0   & 0   & 0   & 0   & 0   & 0   & 0  \\\\\n",
       "\t 0   & 0   & 0   & 0   & 0   & 0   & 1   & 1   & 1   & 1   & ... & 1   & 0   & 0   & 0   & 0   & 0   & 0   & 0   & 0   & 0  \\\\\n",
       "\\end{tabular}\n"
      ],
      "text/markdown": [
       "\n",
       "V1 | V2 | V3 | V4 | V5 | V6 | V7 | V8 | V9 | V10 | ... | V257 | V258 | V259 | V260 | V261 | V262 | V263 | V264 | V265 | V266 | \n",
       "|---|---|---|---|\n",
       "| 0   | 0   | 0   | 0   | 0   | 0   | 1   | 1   | 1   | 1   | ... | 1   | 0   | 0   | 0   | 0   | 0   | 0   | 0   | 0   | 0   | \n",
       "| 0   | 0   | 0   | 0   | 0   | 1   | 1   | 1   | 1   | 1   | ... | 1   | 0   | 0   | 0   | 0   | 0   | 0   | 0   | 0   | 0   | \n",
       "| 0   | 0   | 0   | 0   | 0   | 0   | 0   | 0   | 0   | 1   | ... | 1   | 0   | 0   | 0   | 0   | 0   | 0   | 0   | 0   | 0   | \n",
       "| 0   | 0   | 0   | 0   | 0   | 0   | 1   | 1   | 1   | 1   | ... | 1   | 0   | 0   | 0   | 0   | 0   | 0   | 0   | 0   | 0   | \n",
       "\n",
       "\n"
      ],
      "text/plain": [
       "  V1 V2 V3 V4 V5 V6 V7 V8 V9 V10 ... V257 V258 V259 V260 V261 V262 V263 V264\n",
       "1 0  0  0  0  0  0  1  1  1  1   ... 1    0    0    0    0    0    0    0   \n",
       "2 0  0  0  0  0  1  1  1  1  1   ... 1    0    0    0    0    0    0    0   \n",
       "3 0  0  0  0  0  0  0  0  0  1   ... 1    0    0    0    0    0    0    0   \n",
       "4 0  0  0  0  0  0  1  1  1  1   ... 1    0    0    0    0    0    0    0   \n",
       "  V265 V266\n",
       "1 0    0   \n",
       "2 0    0   \n",
       "3 0    0   \n",
       "4 0    0   "
      ]
     },
     "metadata": {},
     "output_type": "display_data"
    }
   ],
   "source": [
    "ad <- read.table(\"C://Users//Mayur//Documents//Advance Data Science//Assignments_SDas//ADS_FINAL//Data_Semeion//semeion.data\")\n",
    "head(ad,4)"
   ]
  },
  {
   "cell_type": "code",
   "execution_count": 27,
   "metadata": {},
   "outputs": [
    {
     "data": {
      "text/html": [],
      "text/latex": [],
      "text/markdown": [],
      "text/plain": [
       "integer(0)"
      ]
     },
     "metadata": {},
     "output_type": "display_data"
    }
   ],
   "source": [
    "semeion[,which(is.na(semeion))]"
   ]
  },
  {
   "cell_type": "code",
   "execution_count": 28,
   "metadata": {
    "collapsed": true
   },
   "outputs": [],
   "source": [
    "# Converting flatten data to Numeric numbers"
   ]
  },
  {
   "cell_type": "code",
   "execution_count": 29,
   "metadata": {
    "collapsed": true,
    "scrolled": false
   },
   "outputs": [],
   "source": [
    "\n",
    "semeion$digit <- NA\n",
    "semeion$digit[which(mydat$V257 == 1)] <- 0\n",
    "semeion$digit[which(mydat$V258 == 1)] <- 1\n",
    "semeion$digit[which(mydat$V259 == 1)] <- 2\n",
    "semeion$digit[which(mydat$V260 == 1)] <- 3\n",
    "semeion$digit[which(mydat$V261 == 1)] <- 4\n",
    "semeion$digit[which(mydat$V262 == 1)] <- 5\n",
    "semeion$digit[which(mydat$V263 == 1)] <- 6\n",
    "semeion$digit[which(mydat$V264 == 1)] <- 7\n",
    "semeion$digit[which(mydat$V265 == 1)] <- 8\n",
    "semeion$digit[which(mydat$V266 == 1)] <- 9\n",
    "#semeion\n",
    "\n",
    "\n",
    "#dataVal\n",
    "\n",
    "#labels(semeion)\n",
    "\n",
    "set.seed(101) # Set Seed so that same sample can be reproduced in future also\n",
    "# Now Selecting 80% of data as sample from total 'n' rows of the data  \n",
    "sample <- sample.int(n = nrow(semeion), size = floor(.80*nrow(semeion)), replace = F)\n",
    "CNN_Ttrain <- semeion[sample, ]\n",
    "CNN_Ttest  <- semeion[-sample, ]\n",
    "\n",
    "\n",
    "\n",
    "X_Train<-CNN_Ttrain[, -257]\n",
    "Y_Train<-CNN_Ttrain[, 257]\n",
    "\n",
    "\n",
    "\n",
    "X_Test<-CNN_Ttest[, -257]\n",
    "Y_Test<-CNN_Ttest[, 257]"
   ]
  },
  {
   "cell_type": "code",
   "execution_count": 9,
   "metadata": {},
   "outputs": [
    {
     "name": "stderr",
     "output_type": "stream",
     "text": [
      "\n",
      "Attaching package: 'reshape2'\n",
      "\n",
      "The following objects are masked from 'package:data.table':\n",
      "\n",
      "    dcast, melt\n",
      "\n"
     ]
    },
    {
     "data": {
      "text/html": [
       "<strong>digit:</strong> 0"
      ],
      "text/latex": [
       "\\textbf{digit:} 0"
      ],
      "text/markdown": [
       "**digit:** 0"
      ],
      "text/plain": [
       "digit \n",
       "    0 "
      ]
     },
     "metadata": {},
     "output_type": "display_data"
    }
   ],
   "source": [
    "library(reshape2)\n",
    "sapply(Y_Train, function(x) sum(is.na(x)))"
   ]
  },
  {
   "cell_type": "code",
   "execution_count": 30,
   "metadata": {
    "scrolled": true
   },
   "outputs": [
    {
     "data": {
      "text/html": [
       "<table>\n",
       "<thead><tr><th scope=col>digit</th></tr></thead>\n",
       "<tbody>\n",
       "\t<tr><td>9</td></tr>\n",
       "\t<tr><td>3</td></tr>\n",
       "\t<tr><td>8</td></tr>\n",
       "\t<tr><td>6</td></tr>\n",
       "\t<tr><td>9</td></tr>\n",
       "\t<tr><td>3</td></tr>\n",
       "</tbody>\n",
       "</table>\n"
      ],
      "text/latex": [
       "\\begin{tabular}{r|l}\n",
       " digit\\\\\n",
       "\\hline\n",
       "\t 9\\\\\n",
       "\t 3\\\\\n",
       "\t 8\\\\\n",
       "\t 6\\\\\n",
       "\t 9\\\\\n",
       "\t 3\\\\\n",
       "\\end{tabular}\n"
      ],
      "text/markdown": [
       "\n",
       "digit | \n",
       "|---|---|---|---|---|---|\n",
       "| 9 | \n",
       "| 3 | \n",
       "| 8 | \n",
       "| 6 | \n",
       "| 9 | \n",
       "| 3 | \n",
       "\n",
       "\n"
      ],
      "text/plain": [
       "  digit\n",
       "1 9    \n",
       "2 3    \n",
       "3 8    \n",
       "4 6    \n",
       "5 9    \n",
       "6 3    "
      ]
     },
     "metadata": {},
     "output_type": "display_data"
    },
    {
     "data": {
      "text/html": [
       "<ol class=list-inline>\n",
       "\t<li>1274</li>\n",
       "\t<li>1</li>\n",
       "</ol>\n"
      ],
      "text/latex": [
       "\\begin{enumerate*}\n",
       "\\item 1274\n",
       "\\item 1\n",
       "\\end{enumerate*}\n"
      ],
      "text/markdown": [
       "1. 1274\n",
       "2. 1\n",
       "\n",
       "\n"
      ],
      "text/plain": [
       "[1] 1274    1"
      ]
     },
     "metadata": {},
     "output_type": "display_data"
    }
   ],
   "source": [
    "# reshape\n",
    "head(Y_Train)\n",
    "dim(Y_Train)\n",
    "#dim(X_Train) <- c(nrow(X_Train),dim(X_Train)[2])\n",
    "Y_Train <- data.matrix(Y_Train)\n",
    "X_Train <- data.matrix(X_Train)\n",
    "X_Test <- data.matrix(X_Test)\n",
    "Y_Test <- data.matrix(Y_Test)"
   ]
  },
  {
   "cell_type": "code",
   "execution_count": 31,
   "metadata": {},
   "outputs": [
    {
     "data": {
      "text/html": [
       "256"
      ],
      "text/latex": [
       "256"
      ],
      "text/markdown": [
       "256"
      ],
      "text/plain": [
       "[1] 256"
      ]
     },
     "metadata": {},
     "output_type": "display_data"
    },
    {
     "data": {
      "text/html": [
       "256"
      ],
      "text/latex": [
       "256"
      ],
      "text/markdown": [
       "256"
      ],
      "text/plain": [
       "[1] 256"
      ]
     },
     "metadata": {},
     "output_type": "display_data"
    }
   ],
   "source": [
    "ncol(X_Train)\n",
    "dim(X_Train)[2]"
   ]
  },
  {
   "cell_type": "code",
   "execution_count": 32,
   "metadata": {
    "collapsed": true
   },
   "outputs": [],
   "source": [
    "library(keras)"
   ]
  },
  {
   "cell_type": "markdown",
   "metadata": {},
   "source": [
    "# Using Deep Neural Network"
   ]
  },
  {
   "cell_type": "code",
   "execution_count": 188,
   "metadata": {
    "collapsed": true
   },
   "outputs": [],
   "source": [
    "model <- keras_model_sequential() \n",
    "model %>% \n",
    "  layer_dense(units = 128, activation = \"relu\", input_shape = dim(X_Train)[2]) %>%\n",
    "  layer_dropout(rate = 0.4) %>%\n",
    "  layer_dense(units = 64, activation = \"relu\") %>%\n",
    "  layer_dropout(rate = 0.3) %>%\n",
    "  layer_dense(units = 10, activation = \"softmax\")"
   ]
  },
  {
   "cell_type": "code",
   "execution_count": 189,
   "metadata": {},
   "outputs": [
    {
     "name": "stdout",
     "output_type": "stream",
     "text": [
      "________________________________________________________________________________\n",
      "Layer (type)                        Output Shape                    Param #     \n",
      "================================================================================\n",
      "dense_64 (Dense)                    (None, 128)                     32896       \n",
      "________________________________________________________________________________\n",
      "dropout_29 (Dropout)                (None, 128)                     0           \n",
      "________________________________________________________________________________\n",
      "dense_65 (Dense)                    (None, 64)                      8256        \n",
      "________________________________________________________________________________\n",
      "dropout_30 (Dropout)                (None, 64)                      0           \n",
      "________________________________________________________________________________\n",
      "dense_66 (Dense)                    (None, 10)                      650         \n",
      "================================================================================\n",
      "Total params: 41,802\n",
      "Trainable params: 41,802\n",
      "Non-trainable params: 0\n",
      "________________________________________________________________________________\n"
     ]
    }
   ],
   "source": [
    "summary(model)"
   ]
  },
  {
   "cell_type": "code",
   "execution_count": 194,
   "metadata": {
    "collapsed": true
   },
   "outputs": [],
   "source": [
    "model %>% compile(\n",
    "  loss = \"sparse_categorical_crossentropy\" ,      #\"categorical_crossentropy\"\n",
    "  optimizer = 'adam',   # optimizer_rmsprop(),\n",
    "  metrics = c(\"accuracy\")\n",
    ")"
   ]
  },
  {
   "cell_type": "markdown",
   "metadata": {},
   "source": [
    "# tuning the model by using epoch =1000 and batch_size = 5"
   ]
  },
  {
   "cell_type": "code",
   "execution_count": 200,
   "metadata": {
    "collapsed": true
   },
   "outputs": [],
   "source": [
    "history <- model %>% fit(\n",
    "  X_Train, Y_Train,\n",
    "  epochs = 1000, batch_size = 5, \n",
    "  validation_split = 0.2\n",
    ")"
   ]
  },
  {
   "cell_type": "code",
   "execution_count": 201,
   "metadata": {},
   "outputs": [
    {
     "data": {},
     "metadata": {},
     "output_type": "display_data"
    },
    {
     "data": {
      "image/png": "[encoded data removed]",
      "text/plain": [
       "plot without title"
      ]
     },
     "metadata": {},
     "output_type": "display_data"
    }
   ],
   "source": [
    "plot(history)"
   ]
  },
  {
   "cell_type": "code",
   "execution_count": 275,
   "metadata": {
    "collapsed": true
   },
   "outputs": [],
   "source": [
    "#before running the model need to convert data to matrix form for keras model\n",
    "X_Test <- data.matrix(X_Test)\n",
    "Y_Test <- data.matrix(Y_Test)"
   ]
  },
  {
   "cell_type": "code",
   "execution_count": 206,
   "metadata": {},
   "outputs": [
    {
     "data": {
      "text/html": [
       "<dl>\n",
       "\t<dt>$loss</dt>\n",
       "\t\t<dd>0.717423046457356</dd>\n",
       "\t<dt>$acc</dt>\n",
       "\t\t<dd>0.931034480142743</dd>\n",
       "</dl>\n"
      ],
      "text/latex": [
       "\\begin{description}\n",
       "\\item[\\$loss] 0.717423046457356\n",
       "\\item[\\$acc] 0.931034480142743\n",
       "\\end{description}\n"
      ],
      "text/markdown": [
       "$loss\n",
       ":   0.717423046457356\n",
       "$acc\n",
       ":   0.931034480142743\n",
       "\n",
       "\n"
      ],
      "text/plain": [
       "$loss\n",
       "[1] 0.717423\n",
       "\n",
       "$acc\n",
       "[1] 0.9310345\n"
      ]
     },
     "metadata": {},
     "output_type": "display_data"
    }
   ],
   "source": [
    "model %>% evaluate(X_Test, Y_Test,verbose = 1)"
   ]
  },
  {
   "cell_type": "code",
   "execution_count": 208,
   "metadata": {
    "collapsed": true
   },
   "outputs": [],
   "source": [
    "predicted_Y_Test <- model %>% predict_classes(X_Test)"
   ]
  },
  {
   "cell_type": "code",
   "execution_count": 210,
   "metadata": {},
   "outputs": [
    {
     "data": {
      "text/plain": [
       "                Y_Test\n",
       "predicted_Y_Test  0  1  2  3  4  5  6  7  8  9\n",
       "               0 40  0  0  0  0  0  0  0  0  0\n",
       "               1  0 25  0  0  1  0  0  0  0  0\n",
       "               2  0  0 27  0  0  0  0  1  0  0\n",
       "               3  0  0  0 29  0  0  0  0  0  2\n",
       "               4  0  0  0  0 30  0  0  1  1  0\n",
       "               5  0  1  0  6  0 30  0  0  0  0\n",
       "               6  0  0  0  0  1  2 23  0  1  0\n",
       "               7  0  0  0  0  0  0  0 35  0  0\n",
       "               8  0  0  0  0  0  0  0  0 29  0\n",
       "               9  0  0  0  2  0  0  0  2  1 29"
      ]
     },
     "metadata": {},
     "output_type": "display_data"
    }
   ],
   "source": [
    "table(predicted_Y_Test, Y_Test)"
   ]
  },
  {
   "cell_type": "code",
   "execution_count": null,
   "metadata": {
    "collapsed": true
   },
   "outputs": [],
   "source": [
    "#tunning by using epochs= 200 and batch_size = 30"
   ]
  },
  {
   "cell_type": "code",
   "execution_count": 211,
   "metadata": {
    "collapsed": true
   },
   "outputs": [],
   "source": [
    "history <- model %>% fit(\n",
    "  X_Train, Y_Train,\n",
    "  epochs = 200, batch_size = 30, \n",
    "  validation_split = 0.2\n",
    ")"
   ]
  },
  {
   "cell_type": "code",
   "execution_count": 212,
   "metadata": {},
   "outputs": [
    {
     "data": {},
     "metadata": {},
     "output_type": "display_data"
    },
    {
     "data": {
      "image/png": "[encoded data removed]",
      "text/plain": [
       "plot without title"
      ]
     },
     "metadata": {},
     "output_type": "display_data"
    }
   ],
   "source": [
    "plot(history)"
   ]
  },
  {
   "cell_type": "code",
   "execution_count": 213,
   "metadata": {},
   "outputs": [
    {
     "data": {
      "text/html": [
       "<dl>\n",
       "\t<dt>$loss</dt>\n",
       "\t\t<dd>0.684804127881519</dd>\n",
       "\t<dt>$acc</dt>\n",
       "\t\t<dd>0.940438871847051</dd>\n",
       "</dl>\n"
      ],
      "text/latex": [
       "\\begin{description}\n",
       "\\item[\\$loss] 0.684804127881519\n",
       "\\item[\\$acc] 0.940438871847051\n",
       "\\end{description}\n"
      ],
      "text/markdown": [
       "$loss\n",
       ":   0.684804127881519\n",
       "$acc\n",
       ":   0.940438871847051\n",
       "\n",
       "\n"
      ],
      "text/plain": [
       "$loss\n",
       "[1] 0.6848041\n",
       "\n",
       "$acc\n",
       "[1] 0.9404389\n"
      ]
     },
     "metadata": {},
     "output_type": "display_data"
    }
   ],
   "source": [
    "model %>% evaluate(X_Test, Y_Test,verbose = 1)"
   ]
  },
  {
   "cell_type": "code",
   "execution_count": 214,
   "metadata": {},
   "outputs": [
    {
     "data": {
      "text/plain": [
       "                Y_Test\n",
       "predicted_Y_Test  0  1  2  3  4  5  6  7  8  9\n",
       "               0 40  0  0  0  0  0  0  0  0  0\n",
       "               1  0 25  0  0  1  0  0  0  1  1\n",
       "               2  0  0 27  0  0  0  0  2  0  0\n",
       "               3  0  0  0 32  0  0  0  0  1  2\n",
       "               4  0  0  0  0 30  0  0  2  0  0\n",
       "               5  0  1  0  4  0 31  0  0  0  1\n",
       "               6  0  0  0  0  0  1 23  0  0  0\n",
       "               7  0  0  0  0  1  0  0 35  0  0\n",
       "               8  0  0  0  0  0  0  0  0 30  0\n",
       "               9  0  0  0  1  0  0  0  0  0 27"
      ]
     },
     "metadata": {},
     "output_type": "display_data"
    }
   ],
   "source": [
    "predicted_Y_Test <- model %>% predict_classes(X_Test)\n",
    "table(predicted_Y_Test, Y_Test)"
   ]
  },
  {
   "cell_type": "code",
   "execution_count": 294,
   "metadata": {},
   "outputs": [
    {
     "name": "stdout",
     "output_type": "stream",
     "text": [
      "________________________________________________________________________________\n",
      "Layer (type)                        Output Shape                    Param #     \n",
      "================================================================================\n",
      "dense_218 (Dense)                   (None, 256)                     65792       \n",
      "________________________________________________________________________________\n",
      "dropout_121 (Dropout)               (None, 256)                     0           \n",
      "________________________________________________________________________________\n",
      "dense_219 (Dense)                   (None, 128)                     32896       \n",
      "________________________________________________________________________________\n",
      "dropout_122 (Dropout)               (None, 128)                     0           \n",
      "________________________________________________________________________________\n",
      "dense_220 (Dense)                   (None, 10)                      1290        \n",
      "================================================================================\n",
      "Total params: 99,978\n",
      "Trainable params: 99,978\n",
      "Non-trainable params: 0\n",
      "________________________________________________________________________________\n"
     ]
    },
    {
     "data": {},
     "metadata": {},
     "output_type": "display_data"
    },
    {
     "data": {
      "text/html": [
       "<dl>\n",
       "\t<dt>$loss</dt>\n",
       "\t\t<dd>0.21871109610441</dd>\n",
       "\t<dt>$acc</dt>\n",
       "\t\t<dd>0.952978053623606</dd>\n",
       "</dl>\n"
      ],
      "text/latex": [
       "\\begin{description}\n",
       "\\item[\\$loss] 0.21871109610441\n",
       "\\item[\\$acc] 0.952978053623606\n",
       "\\end{description}\n"
      ],
      "text/markdown": [
       "$loss\n",
       ":   0.21871109610441\n",
       "$acc\n",
       ":   0.952978053623606\n",
       "\n",
       "\n"
      ],
      "text/plain": [
       "$loss\n",
       "[1] 0.2187111\n",
       "\n",
       "$acc\n",
       "[1] 0.9529781\n"
      ]
     },
     "metadata": {},
     "output_type": "display_data"
    },
    {
     "data": {
      "text/plain": [
       "                Y_Test\n",
       "predicted_Y_Test  0  1  2  3  4  5  6  7  8  9\n",
       "               0 40  0  0  0  0  0  0  0  0  0\n",
       "               1  0 25  0  2  2  0  0  0  0  0\n",
       "               2  0  0 27  0  0  0  0  0  1  0\n",
       "               3  0  0  0 31  0  0  0  0  0  2\n",
       "               4  0  0  0  0 30  1  0  0  0  0\n",
       "               5  0  1  0  4  0 30  0  0  0  0\n",
       "               6  0  0  0  0  0  1 23  1  0  0\n",
       "               7  0  0  0  0  0  0  0 38  0  0\n",
       "               8  0  0  0  0  0  0  0  0 31  0\n",
       "               9  0  0  0  0  0  0  0  0  0 29"
      ]
     },
     "metadata": {},
     "output_type": "display_data"
    },
    {
     "data": {
      "image/png": "[encoded data removed]",
      "text/plain": [
       "plot without title"
      ]
     },
     "metadata": {},
     "output_type": "display_data"
    }
   ],
   "source": [
    "model <- keras_model_sequential() \n",
    "model %>% \n",
    "  layer_dense(units = 256, activation = 'relu', input_shape =  dim(X_Train)[2]) %>% \n",
    "  layer_dropout(rate = 0.2) %>% \n",
    "  layer_dense(units = 128, activation = 'relu') %>%\n",
    "  layer_dropout(rate = 0.2) %>%\n",
    "  layer_dense(units = 10, activation = 'softmax')\n",
    "summary(model)\n",
    "model %>% compile(\n",
    "  loss = \"sparse_categorical_crossentropy\" ,      #\"categorical_crossentropy\"\n",
    "  optimizer = 'adam',   # optimizer_rmsprop(),\n",
    "  metrics = c(\"accuracy\")\n",
    ")\n",
    "history <- model %>% fit(\n",
    "  X_Train, Y_Train,\n",
    "  epochs = 250, batch_size = 125, \n",
    "  validation_split = 0.01,\n",
    "    verbose= 2,\n",
    "    shuffle='True'\n",
    ")\n",
    "plot(history)\n",
    "model %>% evaluate(X_Test, Y_Test,verbose = 1)\n",
    "predicted_Y_Test <- model %>% predict_classes(X_Test)\n",
    "table(predicted_Y_Test, Y_Test)"
   ]
  },
  {
   "cell_type": "code",
   "execution_count": 318,
   "metadata": {},
   "outputs": [
    {
     "name": "stdout",
     "output_type": "stream",
     "text": [
      "________________________________________________________________________________\n",
      "Layer (type)                        Output Shape                    Param #     \n",
      "================================================================================\n",
      "dense_278 (Dense)                   (None, 256)                     65792       \n",
      "________________________________________________________________________________\n",
      "dropout_161 (Dropout)               (None, 256)                     0           \n",
      "________________________________________________________________________________\n",
      "dense_279 (Dense)                   (None, 128)                     32896       \n",
      "________________________________________________________________________________\n",
      "dropout_162 (Dropout)               (None, 128)                     0           \n",
      "________________________________________________________________________________\n",
      "dense_280 (Dense)                   (None, 10)                      1290        \n",
      "================================================================================\n",
      "Total params: 99,978\n",
      "Trainable params: 99,978\n",
      "Non-trainable params: 0\n",
      "________________________________________________________________________________\n"
     ]
    },
    {
     "data": {},
     "metadata": {},
     "output_type": "display_data"
    },
    {
     "data": {
      "text/html": [
       "<dl>\n",
       "\t<dt>$loss</dt>\n",
       "\t\t<dd>0.19727794765305</dd>\n",
       "\t<dt>$acc</dt>\n",
       "\t\t<dd>0.943573664908873</dd>\n",
       "</dl>\n"
      ],
      "text/latex": [
       "\\begin{description}\n",
       "\\item[\\$loss] 0.19727794765305\n",
       "\\item[\\$acc] 0.943573664908873\n",
       "\\end{description}\n"
      ],
      "text/markdown": [
       "$loss\n",
       ":   0.19727794765305\n",
       "$acc\n",
       ":   0.943573664908873\n",
       "\n",
       "\n"
      ],
      "text/plain": [
       "$loss\n",
       "[1] 0.1972779\n",
       "\n",
       "$acc\n",
       "[1] 0.9435737\n"
      ]
     },
     "metadata": {},
     "output_type": "display_data"
    },
    {
     "data": {
      "text/plain": [
       "                Y_Test\n",
       "predicted_Y_Test  0  1  2  3  4  5  6  7  8  9\n",
       "               0 40  0  0  0  0  0  0  0  0  0\n",
       "               1  0 25  0  2  2  0  0  1  0  1\n",
       "               2  0  0 27  0  0  0  0  0  1  0\n",
       "               3  0  0  0 30  0  0  0  0  0  2\n",
       "               4  0  0  0  0 29  0  0  0  0  0\n",
       "               5  0  1  0  5  0 32  1  0  0  0\n",
       "               6  0  0  0  0  0  0 22  0  0  0\n",
       "               7  0  0  0  0  1  0  0 38  0  0\n",
       "               8  0  0  0  0  0  0  0  0 30  0\n",
       "               9  0  0  0  0  0  0  0  0  1 28"
      ]
     },
     "metadata": {},
     "output_type": "display_data"
    },
    {
     "data": {
      "image/png": "[encoded data removed]",
      "text/plain": [
       "plot without title"
      ]
     },
     "metadata": {},
     "output_type": "display_data"
    }
   ],
   "source": [
    "model <- keras_model_sequential() \n",
    "model %>% \n",
    "  layer_dense(units = 256, activation = 'relu', input_shape =  dim(X_Train)[2]) %>% \n",
    "  layer_dropout(rate = 0.1) %>% \n",
    "  layer_dense(units = 128, activation = 'relu') %>%\n",
    "  layer_dropout(rate = 0.1) %>%\n",
    "  layer_dense(units = 10, activation = 'softmax')\n",
    "summary(model)\n",
    "model %>% compile(\n",
    "  loss = \"sparse_categorical_crossentropy\" ,      #\"categorical_crossentropy\"\n",
    "  optimizer = 'adam',   # optimizer_rmsprop(),\n",
    "  metrics = c(\"accuracy\")\n",
    ")\n",
    "history <- model %>% fit(\n",
    "  X_Train, Y_Train,\n",
    "  epochs = 25, batch_size = 128, \n",
    "  validation_split = 0.011,\n",
    " verbose = 2,\n",
    "    shuffle=\"True\"\n",
    ")\n",
    "plot(history)\n",
    "model %>% evaluate(X_Test, Y_Test,verbose = 1)\n",
    "predicted_Y_Test <- model %>% predict_classes(X_Test)\n",
    "table(predicted_Y_Test, Y_Test)"
   ]
  },
  {
   "cell_type": "code",
   "execution_count": 331,
   "metadata": {
    "scrolled": true
   },
   "outputs": [
    {
     "name": "stdout",
     "output_type": "stream",
     "text": [
      "________________________________________________________________________________\n",
      "Layer (type)                        Output Shape                    Param #     \n",
      "================================================================================\n",
      "dense_316 (Dense)                   (None, 1024)                    263168      \n",
      "________________________________________________________________________________\n",
      "dropout_191 (Dropout)               (None, 1024)                    0           \n",
      "________________________________________________________________________________\n",
      "dense_317 (Dense)                   (None, 512)                     524800      \n",
      "________________________________________________________________________________\n",
      "dropout_192 (Dropout)               (None, 512)                     0           \n",
      "________________________________________________________________________________\n",
      "dense_318 (Dense)                   (None, 256)                     131328      \n",
      "________________________________________________________________________________\n",
      "dropout_193 (Dropout)               (None, 256)                     0           \n",
      "________________________________________________________________________________\n",
      "dense_319 (Dense)                   (None, 128)                     32896       \n",
      "________________________________________________________________________________\n",
      "dropout_194 (Dropout)               (None, 128)                     0           \n",
      "________________________________________________________________________________\n",
      "dense_320 (Dense)                   (None, 10)                      1290        \n",
      "================================================================================\n",
      "Total params: 953,482\n",
      "Trainable params: 953,482\n",
      "Non-trainable params: 0\n",
      "________________________________________________________________________________\n"
     ]
    },
    {
     "data": {},
     "metadata": {},
     "output_type": "display_data"
    },
    {
     "data": {
      "text/html": [
       "<dl>\n",
       "\t<dt>$loss</dt>\n",
       "\t\t<dd>0.225480394046695</dd>\n",
       "\t<dt>$acc</dt>\n",
       "\t\t<dd>0.962382445327914</dd>\n",
       "</dl>\n"
      ],
      "text/latex": [
       "\\begin{description}\n",
       "\\item[\\$loss] 0.225480394046695\n",
       "\\item[\\$acc] 0.962382445327914\n",
       "\\end{description}\n"
      ],
      "text/markdown": [
       "$loss\n",
       ":   0.225480394046695\n",
       "$acc\n",
       ":   0.962382445327914\n",
       "\n",
       "\n"
      ],
      "text/plain": [
       "$loss\n",
       "[1] 0.2254804\n",
       "\n",
       "$acc\n",
       "[1] 0.9623824\n"
      ]
     },
     "metadata": {},
     "output_type": "display_data"
    },
    {
     "data": {
      "text/plain": [
       "                Y_Test\n",
       "predicted_Y_Test  0  1  2  3  4  5  6  7  8  9\n",
       "               0 40  0  0  0  0  0  0  0  0  0\n",
       "               1  0 26  0  1  1  0  0  1  0  0\n",
       "               2  0  0 27  0  0  0  0  0  1  0\n",
       "               3  0  0  0 31  0  0  0  0  0  0\n",
       "               4  0  0  0  0 29  0  0  0  0  0\n",
       "               5  0  0  0  1  0 31  0  0  0  0\n",
       "               6  0  0  0  0  1  1 23  0  0  0\n",
       "               7  0  0  0  0  1  0  0 38  0  0\n",
       "               8  0  0  0  0  0  0  0  0 31  0\n",
       "               9  0  0  0  4  0  0  0  0  0 31"
      ]
     },
     "metadata": {},
     "output_type": "display_data"
    },
    {
     "name": "stdout",
     "output_type": "stream",
     "text": [
      "[1] \"--------------------------------------------------------------------------------------\"\n"
     ]
    },
    {
     "data": {
      "text/html": [
       "<span style=white-space:pre-wrap>'Total run time for Keras model 2.22246666749318  seconds'</span>"
      ],
      "text/latex": [
       "'Total run time for Keras model 2.22246666749318  seconds'"
      ],
      "text/markdown": [
       "<span style=white-space:pre-wrap>'Total run time for Keras model 2.22246666749318  seconds'</span>"
      ],
      "text/plain": [
       "[1] \"Total run time for Keras model 2.22246666749318  seconds\""
      ]
     },
     "metadata": {},
     "output_type": "display_data"
    },
    {
     "data": {
      "image/png": "[encoded data removed]",
      "text/plain": [
       "plot without title"
      ]
     },
     "metadata": {},
     "output_type": "display_data"
    }
   ],
   "source": [
    "#calculating time to measure the model run time using KERAS\n",
    "start_time <- Sys.time()\n",
    "model <- keras_model_sequential() \n",
    "model %>% \n",
    "  layer_dense(units = 1024, activation = 'relu', input_shape =  dim(X_Train)[2]) %>% \n",
    "  layer_dropout(rate = 0.1) %>% \n",
    "  layer_dense(units = 512, activation = 'relu') %>%\n",
    "  layer_dropout(rate = 0.1) %>%\n",
    "  layer_dense(units = 256, activation = 'relu') %>%\n",
    "  layer_dropout(rate = 0.1) %>%\n",
    "  layer_dense(units = 128, activation = 'relu') %>%\n",
    "  layer_dropout(rate = 0.1) %>%\n",
    "  layer_dense(units = 10, activation = 'softmax')\n",
    "summary(model)\n",
    "model %>% compile(\n",
    "  loss = \"sparse_categorical_crossentropy\" ,      #\"categorical_crossentropy\"\n",
    "  optimizer = 'adam',   # optimizer_rmsprop(),\n",
    "  metrics = c(\"accuracy\")\n",
    ")\n",
    "history <- model %>% fit(\n",
    "  X_Train, Y_Train,\n",
    "  epochs = 200, batch_size = 128, \n",
    "  validation_split = 0.02,\n",
    " verbose = 2,\n",
    "    shuffle=\"True\"\n",
    ")\n",
    "plot(history)\n",
    "model %>% evaluate(X_Test, Y_Test,verbose = 1)\n",
    "predicted_Y_Test <- model %>% predict_classes(X_Test)\n",
    "table(predicted_Y_Test, Y_Test)\n",
    "\n",
    "end_time <- Sys.time()\n",
    "\n",
    "run_time <- end_time - start_time\n",
    "print(\"--------------------------------------------------------------------------------------\")\n",
    "paste(\"Total run time for Keras model\", run_time, \" seconds\")"
   ]
  },
  {
   "cell_type": "code",
   "execution_count": 339,
   "metadata": {},
   "outputs": [
    {
     "name": "stdout",
     "output_type": "stream",
     "text": [
      "________________________________________________________________________________\n",
      "Layer (type)                        Output Shape                    Param #     \n",
      "================================================================================\n",
      "dense_356 (Dense)                   (None, 1024)                    263168      \n",
      "________________________________________________________________________________\n",
      "dropout_223 (Dropout)               (None, 1024)                    0           \n",
      "________________________________________________________________________________\n",
      "dense_357 (Dense)                   (None, 512)                     524800      \n",
      "________________________________________________________________________________\n",
      "dropout_224 (Dropout)               (None, 512)                     0           \n",
      "________________________________________________________________________________\n",
      "dense_358 (Dense)                   (None, 256)                     131328      \n",
      "________________________________________________________________________________\n",
      "dropout_225 (Dropout)               (None, 256)                     0           \n",
      "________________________________________________________________________________\n",
      "dense_359 (Dense)                   (None, 128)                     32896       \n",
      "________________________________________________________________________________\n",
      "dropout_226 (Dropout)               (None, 128)                     0           \n",
      "________________________________________________________________________________\n",
      "dense_360 (Dense)                   (None, 10)                      1290        \n",
      "================================================================================\n",
      "Total params: 953,482\n",
      "Trainable params: 953,482\n",
      "Non-trainable params: 0\n",
      "________________________________________________________________________________\n"
     ]
    },
    {
     "data": {},
     "metadata": {},
     "output_type": "display_data"
    },
    {
     "data": {
      "text/html": [
       "<dl>\n",
       "\t<dt>$loss</dt>\n",
       "\t\t<dd>0.286384993913032</dd>\n",
       "\t<dt>$acc</dt>\n",
       "\t\t<dd>0.943573667898447</dd>\n",
       "</dl>\n"
      ],
      "text/latex": [
       "\\begin{description}\n",
       "\\item[\\$loss] 0.286384993913032\n",
       "\\item[\\$acc] 0.943573667898447\n",
       "\\end{description}\n"
      ],
      "text/markdown": [
       "$loss\n",
       ":   0.286384993913032\n",
       "$acc\n",
       ":   0.943573667898447\n",
       "\n",
       "\n"
      ],
      "text/plain": [
       "$loss\n",
       "[1] 0.286385\n",
       "\n",
       "$acc\n",
       "[1] 0.9435737\n"
      ]
     },
     "metadata": {},
     "output_type": "display_data"
    },
    {
     "data": {
      "text/plain": [
       "                Y_Test\n",
       "predicted_Y_Test  0  1  2  3  4  5  6  7  8  9\n",
       "               0 40  0  0  0  0  0  0  0  0  0\n",
       "               1  0 25  0  1  1  0  0  1  0  1\n",
       "               2  0  1 26  0  0  0  0  1  1  0\n",
       "               3  0  0  0 33  0  0  0  1  0  1\n",
       "               4  0  0  0  0 30  0  0  1  0  0\n",
       "               5  0  0  0  2  0 31  1  0  0  0\n",
       "               6  0  0  0  0  1  1 22  0  0  0\n",
       "               7  0  0  1  0  0  0  0 35  0  0\n",
       "               8  0  0  0  0  0  0  0  0 31  1\n",
       "               9  0  0  0  1  0  0  0  0  0 28"
      ]
     },
     "metadata": {},
     "output_type": "display_data"
    },
    {
     "name": "stdout",
     "output_type": "stream",
     "text": [
      "[1] \"--------------------------------------------------------------------------------------\"\n"
     ]
    },
    {
     "data": {
      "text/html": [
       "<span style=white-space:pre-wrap>'Total run time for Keras model 2.06365618308385  seconds'</span>"
      ],
      "text/latex": [
       "'Total run time for Keras model 2.06365618308385  seconds'"
      ],
      "text/markdown": [
       "<span style=white-space:pre-wrap>'Total run time for Keras model 2.06365618308385  seconds'</span>"
      ],
      "text/plain": [
       "[1] \"Total run time for Keras model 2.06365618308385  seconds\""
      ]
     },
     "metadata": {},
     "output_type": "display_data"
    },
    {
     "data": {
      "image/png": "[encoded data removed]",
      "text/plain": [
       "plot without title"
      ]
     },
     "metadata": {},
     "output_type": "display_data"
    }
   ],
   "source": [
    "#calculating time to measure the model run time using KERAS\n",
    "start_time <- Sys.time()\n",
    "model <- keras_model_sequential() \n",
    "model %>% \n",
    "  layer_dense(units = 1024, activation = 'relu', input_shape =  dim(X_Train)[2]) %>% \n",
    "  layer_dropout(rate = 0.1) %>% \n",
    "  layer_dense(units = 512, activation = 'relu') %>%\n",
    "  layer_dropout(rate = 0.1) %>%\n",
    "  layer_dense(units = 256, activation = 'relu') %>%\n",
    "  layer_dropout(rate = 0.1) %>%\n",
    "  layer_dense(units = 128, activation = 'relu') %>%\n",
    "  layer_dropout(rate = 0.1) %>%\n",
    "  layer_dense(units = 10, activation = 'softmax')\n",
    "summary(model)\n",
    "model %>% compile(\n",
    "  loss = \"sparse_categorical_crossentropy\" ,      #\"categorical_crossentropy\"\n",
    "  optimizer = 'adam',   # optimizer_rmsprop(),\n",
    "  metrics = c(\"accuracy\")\n",
    ")\n",
    "history <- model %>% fit(\n",
    "  X_Train, Y_Train,\n",
    "  epochs = 200, batch_size = 129, \n",
    "  validation_split = 0.02,\n",
    " verbose = 2,\n",
    "    shuffle=\"True\"\n",
    ")\n",
    "plot(history)\n",
    "model %>% evaluate(X_Test, Y_Test,verbose = 1)\n",
    "predicted_Y_Test <- model %>% predict_classes(X_Test)\n",
    "table(predicted_Y_Test, Y_Test)\n",
    "\n",
    "end_time <- Sys.time()\n",
    "\n",
    "run_time <- end_time - start_time\n",
    "print(\"--------------------------------------------------------------------------------------\")\n",
    "paste(\"Total run time for Keras model\", run_time, \" seconds\")"
   ]
  },
  {
   "cell_type": "code",
   "execution_count": 327,
   "metadata": {},
   "outputs": [
    {
     "name": "stderr",
     "output_type": "stream",
     "text": [
      "Warning message in mean.default(abs(error)):\n",
      "\"argument is not numeric or logical: returning NA\""
     ]
    }
   ],
   "source": [
    "predicted <- data.frame(predicted_Y_Test)\n",
    "actual <- data.frame(Y_Test)\n",
    "error <- predicted - actual\n",
    "rmse <- sqrt(mean(error^2))\n",
    "mae <- mean(abs(error))"
   ]
  },
  {
   "cell_type": "code",
   "execution_count": 328,
   "metadata": {},
   "outputs": [
    {
     "data": {
      "text/html": [
       "0.99213205714198"
      ],
      "text/latex": [
       "0.99213205714198"
      ],
      "text/markdown": [
       "0.99213205714198"
      ],
      "text/plain": [
       "[1] 0.9921321"
      ]
     },
     "metadata": {},
     "output_type": "display_data"
    }
   ],
   "source": [
    "rmse"
   ]
  },
  {
   "cell_type": "code",
   "execution_count": 319,
   "metadata": {},
   "outputs": [
    {
     "data": {
      "text/html": [
       "<ol class=list-inline>\n",
       "\t<li>'actual'</li>\n",
       "\t<li>'char_Data'</li>\n",
       "\t<li>'CNN_Ttest'</li>\n",
       "\t<li>'CNN_Ttrain'</li>\n",
       "\t<li>'data'</li>\n",
       "\t<li>'dataVal'</li>\n",
       "\t<li>'df'</li>\n",
       "\t<li>'error'</li>\n",
       "\t<li>'f'</li>\n",
       "\t<li>'history'</li>\n",
       "\t<li>'mae'</li>\n",
       "\t<li>'model'</li>\n",
       "\t<li>'mydat'</li>\n",
       "\t<li>'predicted'</li>\n",
       "\t<li>'predicted_Y_Test'</li>\n",
       "\t<li>'rmse'</li>\n",
       "\t<li>'sample'</li>\n",
       "\t<li>'semeion'</li>\n",
       "\t<li>'test'</li>\n",
       "\t<li>'train'</li>\n",
       "\t<li>'X_Test'</li>\n",
       "\t<li>'X_Train'</li>\n",
       "\t<li>'Y_Test'</li>\n",
       "\t<li>'Y_Train'</li>\n",
       "</ol>\n"
      ],
      "text/latex": [
       "\\begin{enumerate*}\n",
       "\\item 'actual'\n",
       "\\item 'char\\_Data'\n",
       "\\item 'CNN\\_Ttest'\n",
       "\\item 'CNN\\_Ttrain'\n",
       "\\item 'data'\n",
       "\\item 'dataVal'\n",
       "\\item 'df'\n",
       "\\item 'error'\n",
       "\\item 'f'\n",
       "\\item 'history'\n",
       "\\item 'mae'\n",
       "\\item 'model'\n",
       "\\item 'mydat'\n",
       "\\item 'predicted'\n",
       "\\item 'predicted\\_Y\\_Test'\n",
       "\\item 'rmse'\n",
       "\\item 'sample'\n",
       "\\item 'semeion'\n",
       "\\item 'test'\n",
       "\\item 'train'\n",
       "\\item 'X\\_Test'\n",
       "\\item 'X\\_Train'\n",
       "\\item 'Y\\_Test'\n",
       "\\item 'Y\\_Train'\n",
       "\\end{enumerate*}\n"
      ],
      "text/markdown": [
       "1. 'actual'\n",
       "2. 'char_Data'\n",
       "3. 'CNN_Ttest'\n",
       "4. 'CNN_Ttrain'\n",
       "5. 'data'\n",
       "6. 'dataVal'\n",
       "7. 'df'\n",
       "8. 'error'\n",
       "9. 'f'\n",
       "10. 'history'\n",
       "11. 'mae'\n",
       "12. 'model'\n",
       "13. 'mydat'\n",
       "14. 'predicted'\n",
       "15. 'predicted_Y_Test'\n",
       "16. 'rmse'\n",
       "17. 'sample'\n",
       "18. 'semeion'\n",
       "19. 'test'\n",
       "20. 'train'\n",
       "21. 'X_Test'\n",
       "22. 'X_Train'\n",
       "23. 'Y_Test'\n",
       "24. 'Y_Train'\n",
       "\n",
       "\n"
      ],
      "text/plain": [
       " [1] \"actual\"           \"char_Data\"        \"CNN_Ttest\"        \"CNN_Ttrain\"      \n",
       " [5] \"data\"             \"dataVal\"          \"df\"               \"error\"           \n",
       " [9] \"f\"                \"history\"          \"mae\"              \"model\"           \n",
       "[13] \"mydat\"            \"predicted\"        \"predicted_Y_Test\" \"rmse\"            \n",
       "[17] \"sample\"           \"semeion\"          \"test\"             \"train\"           \n",
       "[21] \"X_Test\"           \"X_Train\"          \"Y_Test\"           \"Y_Train\"         "
      ]
     },
     "metadata": {},
     "output_type": "display_data"
    }
   ],
   "source": [
    "ls()\n"
   ]
  },
  {
   "cell_type": "code",
   "execution_count": 20,
   "metadata": {},
   "outputs": [
    {
     "name": "stdout",
     "output_type": "stream",
     "text": [
      "________________________________________________________________________________\n",
      "Layer (type)                        Output Shape                    Param #     \n",
      "================================================================================\n",
      "dense_7 (Dense)                     (None, 128)                     32896       \n",
      "________________________________________________________________________________\n",
      "dropout_5 (Dropout)                 (None, 128)                     0           \n",
      "________________________________________________________________________________\n",
      "dense_8 (Dense)                     (None, 64)                      8256        \n",
      "________________________________________________________________________________\n",
      "dropout_6 (Dropout)                 (None, 64)                      0           \n",
      "________________________________________________________________________________\n",
      "dense_9 (Dense)                     (None, 10)                      650         \n",
      "================================================================================\n",
      "Total params: 41,802\n",
      "Trainable params: 41,802\n",
      "Non-trainable params: 0\n",
      "________________________________________________________________________________\n"
     ]
    },
    {
     "data": {},
     "metadata": {},
     "output_type": "display_data"
    },
    {
     "data": {
      "text/html": [
       "<dl>\n",
       "\t<dt>$loss</dt>\n",
       "\t\t<dd>0.252586969948114</dd>\n",
       "\t<dt>$acc</dt>\n",
       "\t\t<dd>0.943573667898447</dd>\n",
       "</dl>\n"
      ],
      "text/latex": [
       "\\begin{description}\n",
       "\\item[\\$loss] 0.252586969948114\n",
       "\\item[\\$acc] 0.943573667898447\n",
       "\\end{description}\n"
      ],
      "text/markdown": [
       "$loss\n",
       ":   0.252586969948114\n",
       "$acc\n",
       ":   0.943573667898447\n",
       "\n",
       "\n"
      ],
      "text/plain": [
       "$loss\n",
       "[1] 0.252587\n",
       "\n",
       "$acc\n",
       "[1] 0.9435737\n"
      ]
     },
     "metadata": {},
     "output_type": "display_data"
    },
    {
     "data": {
      "text/plain": [
       "                Y_Test\n",
       "predicted_Y_Test  0  1  2  3  4  5  6  7  8  9\n",
       "               0 40  0  0  0  0  0  0  0  0  0\n",
       "               1  0 26  0  1  1  0  0  2  1  0\n",
       "               2  0  0 27  0  0  0  0  0  0  0\n",
       "               3  0  0  0 29  0  0  0  2  1  0\n",
       "               4  0  0  0  0 30  0  0  0  0  0\n",
       "               5  0  0  0  4  0 31  0  0  0  0\n",
       "               6  0  0  0  0  0  1 23  0  0  0\n",
       "               7  0  0  0  0  1  0  0 35  0  0\n",
       "               8  0  0  0  1  0  0  0  0 29  0\n",
       "               9  0  0  0  2  0  0  0  0  1 31"
      ]
     },
     "metadata": {},
     "output_type": "display_data"
    },
    {
     "ename": "ERROR",
     "evalue": "Error in eval(expr, envir, enclos): object 'start_time' not found\n",
     "output_type": "error",
     "traceback": [
      "Error in eval(expr, envir, enclos): object 'start_time' not found\nTraceback:\n"
     ]
    },
    {
     "data": {
      "image/png": "[encoded data removed]",
      "text/plain": [
       "plot without title"
      ]
     },
     "metadata": {},
     "output_type": "display_data"
    }
   ],
   "source": [
    "model <- keras_model_sequential() \n",
    "model %>% \n",
    "  layer_dense(units = 128, activation = \"relu\", input_shape = dim(X_Train)[2]) %>%\n",
    "  layer_dropout(rate = 0.4) %>%\n",
    "  layer_dense(units = 64, activation = \"relu\") %>%\n",
    "  layer_dropout(rate = 0.3) %>%\n",
    "  layer_dense(units = 10, activation = \"softmax\")\n",
    "\n",
    "summary(model)\n",
    "\n",
    "model %>% compile(\n",
    "  loss = \"sparse_categorical_crossentropy\" ,      #\"categorical_crossentropy\"\n",
    "  optimizer = 'adam',   # optimizer_rmsprop(),\n",
    "  metrics = c(\"accuracy\")\n",
    ")\n",
    "\n",
    "history <- model %>% fit(\n",
    "  X_Train, Y_Train,\n",
    "  epochs = 200, batch_size = 100, \n",
    "  validation_split = 0.2\n",
    ")\n",
    "\n",
    "plot(history)\n",
    "\n",
    "model %>% evaluate(X_Test, Y_Test,verbose = 1)\n",
    "predicted_Y_Test <- model %>% predict_classes(X_Test)\n",
    "table(predicted_Y_Test, Y_Test)\n",
    "\n",
    "end_time <- Sys.time()\n",
    "\n",
    "run_time <- end_time - start_time\n",
    "print(\"--------------------------------------------------------------------------------------\")\n",
    "paste(\"Total run time for Keras model\", run_time, \" seconds\")"
   ]
  },
  {
   "cell_type": "code",
   "execution_count": 34,
   "metadata": {},
   "outputs": [
    {
     "name": "stdout",
     "output_type": "stream",
     "text": [
      "________________________________________________________________________________\n",
      "Layer (type)                        Output Shape                    Param #     \n",
      "================================================================================\n",
      "dense_36 (Dense)                    (None, 128)                     32896       \n",
      "________________________________________________________________________________\n",
      "dropout_23 (Dropout)                (None, 128)                     0           \n",
      "________________________________________________________________________________\n",
      "dense_37 (Dense)                    (None, 64)                      8256        \n",
      "________________________________________________________________________________\n",
      "dropout_24 (Dropout)                (None, 64)                      0           \n",
      "________________________________________________________________________________\n",
      "dense_38 (Dense)                    (None, 10)                      650         \n",
      "================================================================================\n",
      "Total params: 41,802\n",
      "Trainable params: 41,802\n",
      "Non-trainable params: 0\n",
      "________________________________________________________________________________\n"
     ]
    },
    {
     "data": {},
     "metadata": {},
     "output_type": "display_data"
    },
    {
     "data": {
      "text/html": [
       "<dl>\n",
       "\t<dt>$loss</dt>\n",
       "\t\t<dd>0.217435665451994</dd>\n",
       "\t<dt>$acc</dt>\n",
       "\t\t<dd>0.949843260374936</dd>\n",
       "</dl>\n"
      ],
      "text/latex": [
       "\\begin{description}\n",
       "\\item[\\$loss] 0.217435665451994\n",
       "\\item[\\$acc] 0.949843260374936\n",
       "\\end{description}\n"
      ],
      "text/markdown": [
       "$loss\n",
       ":   0.217435665451994\n",
       "$acc\n",
       ":   0.949843260374936\n",
       "\n",
       "\n"
      ],
      "text/plain": [
       "$loss\n",
       "[1] 0.2174357\n",
       "\n",
       "$acc\n",
       "[1] 0.9498433\n"
      ]
     },
     "metadata": {},
     "output_type": "display_data"
    },
    {
     "data": {
      "text/plain": [
       "                Y_Test\n",
       "predicted_Y_Test  0  1  2  3  4  5  6  7  8  9\n",
       "               0 40  0  0  0  0  0  0  0  0  0\n",
       "               1  0 25  0  1  1  0  0  1  2  0\n",
       "               2  0  0 27  0  0  0  0  0  0  0\n",
       "               3  0  0  0 32  0  0  0  1  0  2\n",
       "               4  0  0  0  0 30  0  0  0  0  0\n",
       "               5  0  1  0  2  0 31  0  0  0  0\n",
       "               6  0  0  0  0  0  1 23  0  0  0\n",
       "               7  0  0  0  0  1  0  0 37  0  0\n",
       "               8  0  0  0  0  0  0  0  0 29  0\n",
       "               9  0  0  0  2  0  0  0  0  1 29"
      ]
     },
     "metadata": {},
     "output_type": "display_data"
    },
    {
     "ename": "ERROR",
     "evalue": "Error in eval(expr, envir, enclos): object 'start_time' not found\n",
     "output_type": "error",
     "traceback": [
      "Error in eval(expr, envir, enclos): object 'start_time' not found\nTraceback:\n"
     ]
    },
    {
     "data": {
      "image/png": "[encoded data removed]",
      "text/plain": [
       "plot without title"
      ]
     },
     "metadata": {},
     "output_type": "display_data"
    }
   ],
   "source": [
    "model <- keras_model_sequential() \n",
    "model %>% \n",
    "  layer_dense(units = 128, activation = \"relu\", input_shape = dim(X_Train)[2]) %>%\n",
    "  layer_dropout(rate = 0.2) %>%\n",
    "  layer_dense(units = 64, activation = \"relu\") %>%\n",
    "  layer_dropout(rate = 0.2) %>%\n",
    "  layer_dense(units = 10, activation = \"softmax\")\n",
    "\n",
    "summary(model)\n",
    "\n",
    "model %>% compile(\n",
    "  loss = \"sparse_categorical_crossentropy\" ,      #\"categorical_crossentropy\"\n",
    "  optimizer = 'adam',   # optimizer_rmsprop(),\n",
    "  metrics = c(\"accuracy\")\n",
    ")\n",
    "\n",
    "history <- model %>% fit(\n",
    "  X_Train, Y_Train,\n",
    "  epochs = 200, batch_size = 120, \n",
    "  validation_split = 0.2\n",
    ")\n",
    "\n",
    "plot(history)\n",
    "\n",
    "model %>% evaluate(X_Test, Y_Test,verbose = 1)\n",
    "predicted_Y_Test <- model %>% predict_classes(X_Test)\n",
    "table(predicted_Y_Test, Y_Test)\n",
    "\n",
    "end_time <- Sys.time()\n",
    "\n",
    "run_time <- end_time - start_time\n",
    "print(\"--------------------------------------------------------------------------------------\")\n",
    "paste(\"Total run time for Keras model\", run_time, \" seconds\")"
   ]
  },
  {
   "cell_type": "code",
   "execution_count": 35,
   "metadata": {},
   "outputs": [
    {
     "data": {
      "text/plain": [
       "[{'class_name': 'Dense', 'config': {'name': 'dense_36', 'trainable': True, 'batch_input_shape': (None, 256), 'dtype': 'float32', 'units': 128, 'activation': 'relu', 'use_bias': True, 'kernel_initializer': {'class_name': 'VarianceScaling', 'config': {'scale': 1.0, 'mode': 'fan_avg', 'distribution': 'uniform', 'seed': None}}, 'bias_initializer': {'class_name': 'Zeros', 'config': {}}, 'kernel_regularizer': None, 'bias_regularizer': None, 'activity_regularizer': None, 'kernel_constraint': None, 'bias_constraint': None}}, {'class_name': 'Dropout', 'config': {'name': 'dropout_23', 'trainable': True, 'rate': 0.2, 'noise_shape': None, 'seed': None}}, {'class_name': 'Dense', 'config': {'name': 'dense_37', 'trainable': True, 'units': 64, 'activation': 'relu', 'use_bias': True, 'kernel_initializer': {'class_name': 'VarianceScaling', 'config': {'scale': 1.0, 'mode': 'fan_avg', 'distribution': 'uniform', 'seed': None}}, 'bias_initializer': {'class_name': 'Zeros', 'config': {}}, 'kernel_regularizer': None, 'bias_regularizer': None, 'activity_regularizer': None, 'kernel_constraint': None, 'bias_constraint': None}}, {'class_name': 'Dropout', 'config': {'name': 'dropout_24', 'trainable': True, 'rate': 0.2, 'noise_shape': None, 'seed': None}}, {'class_name': 'Dense', 'config': {'name': 'dense_38', 'trainable': True, 'units': 10, 'activation': 'softmax', 'use_bias': True, 'kernel_initializer': {'class_name': 'VarianceScaling', 'config': {'scale': 1.0, 'mode': 'fan_avg', 'distribution': 'uniform', 'seed': None}}, 'bias_initializer': {'class_name': 'Zeros', 'config': {}}, 'kernel_regularizer': None, 'bias_regularizer': None, 'activity_regularizer': None, 'kernel_constraint': None, 'bias_constraint': None}}]"
      ]
     },
     "metadata": {},
     "output_type": "display_data"
    }
   ],
   "source": [
    "get_config(model)"
   ]
  },
  {
   "cell_type": "code",
   "execution_count": 37,
   "metadata": {},
   "outputs": [
    {
     "data": {
      "text/plain": [
       "<keras.layers.core.Dropout>"
      ]
     },
     "metadata": {},
     "output_type": "display_data"
    }
   ],
   "source": [
    "get_layer(model, index = 2)"
   ]
  },
  {
   "cell_type": "code",
   "execution_count": 38,
   "metadata": {},
   "outputs": [
    {
     "data": {
      "text/plain": [
       "[[1]]\n",
       "<keras.layers.core.Dense>\n",
       "\n",
       "[[2]]\n",
       "<keras.layers.core.Dropout>\n",
       "\n",
       "[[3]]\n",
       "<keras.layers.core.Dense>\n",
       "\n",
       "[[4]]\n",
       "<keras.layers.core.Dropout>\n",
       "\n",
       "[[5]]\n",
       "<keras.layers.core.Dense>\n"
      ]
     },
     "metadata": {},
     "output_type": "display_data"
    }
   ],
   "source": [
    "model$layers"
   ]
  },
  {
   "cell_type": "code",
   "execution_count": 39,
   "metadata": {},
   "outputs": [
    {
     "data": {
      "text/plain": [
       "[[1]]\n",
       "Tensor(\"dense_36_input:0\", shape=(?, 256), dtype=float32)\n"
      ]
     },
     "metadata": {},
     "output_type": "display_data"
    }
   ],
   "source": [
    "model$inputs"
   ]
  },
  {
   "cell_type": "code",
   "execution_count": 40,
   "metadata": {},
   "outputs": [
    {
     "data": {
      "text/plain": [
       "[[1]]\n",
       "Tensor(\"dense_38/Softmax:0\", shape=(?, 10), dtype=float32)\n"
      ]
     },
     "metadata": {},
     "output_type": "display_data"
    }
   ],
   "source": [
    "model$outputs"
   ]
  },
  {
   "cell_type": "markdown",
   "metadata": {},
   "source": [
    "# Separating Accuracy and Loss Curves on Test and Train data"
   ]
  },
  {
   "cell_type": "code",
   "execution_count": 41,
   "metadata": {},
   "outputs": [
    {
     "data": {
      "image/png": "[encoded data removed]",
      "text/plain": [
       "Plot with title \"Model Accuracy\""
      ]
     },
     "metadata": {},
     "output_type": "display_data"
    }
   ],
   "source": [
    "# Plot the accuracy of the training data \n",
    "plot(history$metrics$acc, main=\"Model Accuracy\", xlab = \"epoch\", ylab=\"accuracy\", col=\"blue\", type=\"l\")\n",
    "\n",
    "# Plot the accuracy of the validation data\n",
    "lines(history$metrics$val_acc, col=\"green\")\n",
    "\n",
    "# Add Legend\n",
    "legend(\"bottomright\", c(\"train\",\"test\"), col=c(\"blue\", \"green\"), lty=c(1,1))"
   ]
  },
  {
   "cell_type": "code",
   "execution_count": 42,
   "metadata": {},
   "outputs": [
    {
     "data": {
      "image/png": "[encoded data removed]",
      "text/plain": [
       "Plot with title \"Model Loss\""
      ]
     },
     "metadata": {},
     "output_type": "display_data"
    }
   ],
   "source": [
    "# Plot the model loss of the training data\n",
    "plot(history$metrics$loss, main=\"Model Loss\", xlab = \"epoch\", ylab=\"loss\", col=\"blue\", type=\"l\")\n",
    "\n",
    "# Plot the model loss of the test data\n",
    "lines(history$metrics$val_loss, col=\"green\")\n",
    "\n",
    "# Add legend\n",
    "legend(\"topright\", c(\"train\",\"test\"), col=c(\"blue\", \"green\"), lty=c(1,1))"
   ]
  },
  {
   "cell_type": "code",
   "execution_count": 46,
   "metadata": {},
   "outputs": [
    {
     "name": "stdout",
     "output_type": "stream",
     "text": [
      "________________________________________________________________________________\n",
      "Layer (type)                        Output Shape                    Param #     \n",
      "================================================================================\n",
      "dense_42 (Dense)                    (None, 128)                     32896       \n",
      "________________________________________________________________________________\n",
      "dropout_27 (Dropout)                (None, 128)                     0           \n",
      "________________________________________________________________________________\n",
      "dense_43 (Dense)                    (None, 64)                      8256        \n",
      "________________________________________________________________________________\n",
      "dropout_28 (Dropout)                (None, 64)                      0           \n",
      "________________________________________________________________________________\n",
      "dense_44 (Dense)                    (None, 10)                      650         \n",
      "================================================================================\n",
      "Total params: 41,802\n",
      "Trainable params: 41,802\n",
      "Non-trainable params: 0\n",
      "________________________________________________________________________________\n"
     ]
    },
    {
     "data": {},
     "metadata": {},
     "output_type": "display_data"
    },
    {
     "data": {
      "text/html": [
       "<dl>\n",
       "\t<dt>$loss</dt>\n",
       "\t\t<dd>0.264206833787099</dd>\n",
       "\t<dt>$acc</dt>\n",
       "\t\t<dd>0.912225702900124</dd>\n",
       "</dl>\n"
      ],
      "text/latex": [
       "\\begin{description}\n",
       "\\item[\\$loss] 0.264206833787099\n",
       "\\item[\\$acc] 0.912225702900124\n",
       "\\end{description}\n"
      ],
      "text/markdown": [
       "$loss\n",
       ":   0.264206833787099\n",
       "$acc\n",
       ":   0.912225702900124\n",
       "\n",
       "\n"
      ],
      "text/plain": [
       "$loss\n",
       "[1] 0.2642068\n",
       "\n",
       "$acc\n",
       "[1] 0.9122257\n"
      ]
     },
     "metadata": {},
     "output_type": "display_data"
    },
    {
     "data": {
      "text/plain": [
       "                Y_Test\n",
       "predicted_Y_Test  0  1  2  3  4  5  6  7  8  9\n",
       "               0 40  0  0  0  0  0  0  0  0  0\n",
       "               1  0 23  1  1  1  0  0  1  1  0\n",
       "               2  0  1 26  0  0  0  0  1  0  0\n",
       "               3  0  0  0 28  0  0  0  1  0  3\n",
       "               4  0  0  0  0 30  0  0  0  0  0\n",
       "               5  0  0  0  4  0 30  1  0  1  0\n",
       "               6  0  0  0  0  0  2 22  1  0  0\n",
       "               7  0  2  0  0  1  0  0 35  0  0\n",
       "               8  0  0  0  1  0  0  0  0 30  1\n",
       "               9  0  0  0  3  0  0  0  0  0 27"
      ]
     },
     "metadata": {},
     "output_type": "display_data"
    },
    {
     "ename": "ERROR",
     "evalue": "Error in eval(expr, envir, enclos): object 'start_time' not found\n",
     "output_type": "error",
     "traceback": [
      "Error in eval(expr, envir, enclos): object 'start_time' not found\nTraceback:\n"
     ]
    },
    {
     "data": {
      "image/png": "[encoded data removed]",
      "text/plain": [
       "plot without title"
      ]
     },
     "metadata": {},
     "output_type": "display_data"
    }
   ],
   "source": [
    "model <- keras_model_sequential() \n",
    "model %>% \n",
    "  layer_dense(units = 128, activation = \"relu\", input_shape = dim(X_Train)[2]) %>%\n",
    "  layer_dropout(rate = 0.2) %>%\n",
    "  layer_dense(units = 64, activation = \"relu\") %>%\n",
    "  layer_dropout(rate = 0.2) %>%\n",
    "  layer_dense(units = 10, activation = \"softmax\")\n",
    "\n",
    "summary(model)\n",
    "\n",
    "model %>% compile(\n",
    "  loss = \"sparse_categorical_crossentropy\" ,      #\"categorical_crossentropy\"\n",
    "  optimizer = 'sgd',   # optimizer_rmsprop(),\n",
    "  metrics = c(\"accuracy\")\n",
    ")\n",
    "\n",
    "history <- model %>% fit(\n",
    "  X_Train, Y_Train,\n",
    "  epochs = 200, batch_size = 128, \n",
    "  validation_split = 0.2\n",
    ")\n",
    "\n",
    "plot(history)\n",
    "\n",
    "model %>% evaluate(X_Test, Y_Test,verbose = 1)\n",
    "predicted_Y_Test <- model %>% predict_classes(X_Test)\n",
    "table(predicted_Y_Test, Y_Test)\n",
    "\n",
    "end_time <- Sys.time()\n",
    "\n",
    "run_time <- end_time - start_time\n",
    "print(\"--------------------------------------------------------------------------------------\")\n",
    "paste(\"Total run time for Keras model\", run_time, \" seconds\")"
   ]
  },
  {
   "cell_type": "code",
   "execution_count": 47,
   "metadata": {},
   "outputs": [
    {
     "data": {
      "image/png": "[encoded data removed]",
      "text/plain": [
       "Plot with title \"Model Loss\""
      ]
     },
     "metadata": {},
     "output_type": "display_data"
    },
    {
     "data": {
      "image/png": "[encoded data removed]",
      "text/plain": [
       "Plot with title \"Model Accuracy\""
      ]
     },
     "metadata": {},
     "output_type": "display_data"
    }
   ],
   "source": [
    "# Plot the model loss\n",
    "plot(history$metrics$loss, main=\"Model Loss\", xlab = \"epoch\", ylab=\"loss\", col=\"blue\", type=\"l\")\n",
    "lines(history$metrics$val_loss, col=\"green\")\n",
    "legend(\"topright\", c(\"train\",\"test\"), col=c(\"blue\", \"green\"), lty=c(1,1))\n",
    "\n",
    "# Plot the model accuracy\n",
    "plot(history$metrics$acc, main=\"Model Accuracy\", xlab = \"epoch\", ylab=\"accuracy\", col=\"blue\", type=\"l\")\n",
    "lines(history$metrics$val_acc, col=\"green\")\n",
    "legend(\"bottomright\", c(\"train\",\"test\"), col=c(\"blue\", \"green\"), lty=c(1,1))"
   ]
  },
  {
   "cell_type": "markdown",
   "metadata": {},
   "source": [
    "# Using Convolution Neural Network in Keras"
   ]
  },
  {
   "cell_type": "code",
   "execution_count": 33,
   "metadata": {
    "collapsed": true
   },
   "outputs": [],
   "source": [
    "# reshape the input dependent dataset 2D to 3D\n",
    "dim(X_Train) <- c(nrow(X_Train), 256,1)\n",
    "#dim(Y_Train) <- c(nrow(Y_Train), 1, 1)\n",
    "\n",
    "dim(X_Test) <- c(nrow(X_Test), 256, 1)\n",
    "#dim(Y_Test) <- c(nrow(Y_Test), 1, 1)"
   ]
  },
  {
   "cell_type": "code",
   "execution_count": 34,
   "metadata": {},
   "outputs": [
    {
     "data": {
      "text/html": [
       "<ol class=list-inline>\n",
       "\t<li>1274</li>\n",
       "\t<li>256</li>\n",
       "\t<li>1</li>\n",
       "</ol>\n"
      ],
      "text/latex": [
       "\\begin{enumerate*}\n",
       "\\item 1274\n",
       "\\item 256\n",
       "\\item 1\n",
       "\\end{enumerate*}\n"
      ],
      "text/markdown": [
       "1. 1274\n",
       "2. 256\n",
       "3. 1\n",
       "\n",
       "\n"
      ],
      "text/plain": [
       "[1] 1274  256    1"
      ]
     },
     "metadata": {},
     "output_type": "display_data"
    },
    {
     "data": {
      "text/html": [
       "<ol class=list-inline>\n",
       "\t<li>1274</li>\n",
       "\t<li>1</li>\n",
       "</ol>\n"
      ],
      "text/latex": [
       "\\begin{enumerate*}\n",
       "\\item 1274\n",
       "\\item 1\n",
       "\\end{enumerate*}\n"
      ],
      "text/markdown": [
       "1. 1274\n",
       "2. 1\n",
       "\n",
       "\n"
      ],
      "text/plain": [
       "[1] 1274    1"
      ]
     },
     "metadata": {},
     "output_type": "display_data"
    }
   ],
   "source": [
    "dim(X_Train)\n",
    "dim(Y_Train)"
   ]
  },
  {
   "cell_type": "markdown",
   "metadata": {},
   "source": [
    "# input shape for conv_1d is in 2 diamension which is (256,1) And kernel_size is in one diamension"
   ]
  },
  {
   "cell_type": "code",
   "execution_count": 39,
   "metadata": {
    "scrolled": true
   },
   "outputs": [
    {
     "name": "stdout",
     "output_type": "stream",
     "text": [
      "________________________________________________________________________________\n",
      "Layer (type)                        Output Shape                    Param #     \n",
      "================================================================================\n",
      "conv1d_11 (Conv1D)                  (None, 256, 256)                1536        \n",
      "________________________________________________________________________________\n",
      "activation_11 (Activation)          (None, 256, 256)                0           \n",
      "________________________________________________________________________________\n",
      "conv1d_12 (Conv1D)                  (None, 254, 32)                 24608       \n",
      "________________________________________________________________________________\n",
      "activation_12 (Activation)          (None, 254, 32)                 0           \n",
      "________________________________________________________________________________\n",
      "max_pooling1d_10 (MaxPooling1D)     (None, 84, 32)                  0           \n",
      "________________________________________________________________________________\n",
      "flatten_10 (Flatten)                (None, 2688)                    0           \n",
      "________________________________________________________________________________\n",
      "dense_43 (Dense)                    (None, 1024)                    2753536     \n",
      "________________________________________________________________________________\n",
      "dropout_34 (Dropout)                (None, 1024)                    0           \n",
      "________________________________________________________________________________\n",
      "dense_44 (Dense)                    (None, 512)                     524800      \n",
      "________________________________________________________________________________\n",
      "dropout_35 (Dropout)                (None, 512)                     0           \n",
      "________________________________________________________________________________\n",
      "dense_45 (Dense)                    (None, 256)                     131328      \n",
      "________________________________________________________________________________\n",
      "dropout_36 (Dropout)                (None, 256)                     0           \n",
      "________________________________________________________________________________\n",
      "dense_46 (Dense)                    (None, 128)                     32896       \n",
      "________________________________________________________________________________\n",
      "dropout_37 (Dropout)                (None, 128)                     0           \n",
      "________________________________________________________________________________\n",
      "dense_47 (Dense)                    (None, 10)                      1290        \n",
      "================================================================================\n",
      "Total params: 3,469,994\n",
      "Trainable params: 3,469,994\n",
      "Non-trainable params: 0\n",
      "________________________________________________________________________________\n"
     ]
    },
    {
     "data": {},
     "metadata": {},
     "output_type": "display_data"
    },
    {
     "data": {
      "text/html": [
       "<dl>\n",
       "\t<dt>$loss</dt>\n",
       "\t\t<dd>0.213739748191684</dd>\n",
       "\t<dt>$acc</dt>\n",
       "\t\t<dd>0.949843260374936</dd>\n",
       "</dl>\n"
      ],
      "text/latex": [
       "\\begin{description}\n",
       "\\item[\\$loss] 0.213739748191684\n",
       "\\item[\\$acc] 0.949843260374936\n",
       "\\end{description}\n"
      ],
      "text/markdown": [
       "$loss\n",
       ":   0.213739748191684\n",
       "$acc\n",
       ":   0.949843260374936\n",
       "\n",
       "\n"
      ],
      "text/plain": [
       "$loss\n",
       "[1] 0.2137397\n",
       "\n",
       "$acc\n",
       "[1] 0.9498433\n"
      ]
     },
     "metadata": {},
     "output_type": "display_data"
    },
    {
     "data": {
      "text/plain": [
       "                Y_Test\n",
       "predicted_Y_Test  0  1  2  3  4  5  6  7  8  9\n",
       "               0 40  0  0  0  0  0  0  0  0  0\n",
       "               1  0 26  0  3  1  0  0  1  0  1\n",
       "               2  0  0 27  0  0  0  0  1  0  0\n",
       "               3  0  0  0 31  0  0  0  1  0  0\n",
       "               4  0  0  0  0 31  0  0  1  0  0\n",
       "               5  0  0  0  3  0 30  0  0  0  1\n",
       "               6  0  0  0  0  0  2 23  1  0  0\n",
       "               7  0  0  0  0  0  0  0 34  0  0\n",
       "               8  0  0  0  0  0  0  0  0 32  0\n",
       "               9  0  0  0  0  0  0  0  0  0 29"
      ]
     },
     "metadata": {},
     "output_type": "display_data"
    },
    {
     "name": "stdout",
     "output_type": "stream",
     "text": [
      "[1] \"--------------------------------------------------------------------------------------\"\n"
     ]
    },
    {
     "data": {
      "text/html": [
       "<span style=white-space:pre-wrap>'Total run time for Keras model 1.0743759671847  seconds'</span>"
      ],
      "text/latex": [
       "'Total run time for Keras model 1.0743759671847  seconds'"
      ],
      "text/markdown": [
       "<span style=white-space:pre-wrap>'Total run time for Keras model 1.0743759671847  seconds'</span>"
      ],
      "text/plain": [
       "[1] \"Total run time for Keras model 1.0743759671847  seconds\""
      ]
     },
     "metadata": {},
     "output_type": "display_data"
    },
    {
     "data": {
      "text/html": [
       "<span style=white-space:pre-wrap>'RMSE :  0.795756771963263'</span>"
      ],
      "text/latex": [
       "'RMSE :  0.795756771963263'"
      ],
      "text/markdown": [
       "<span style=white-space:pre-wrap>'RMSE :  0.795756771963263'</span>"
      ],
      "text/plain": [
       "[1] \"RMSE :  0.795756771963263\""
      ]
     },
     "metadata": {},
     "output_type": "display_data"
    },
    {
     "data": {
      "image/png": "[encoded data removed]",
      "text/plain": [
       "plot without title"
      ]
     },
     "metadata": {},
     "output_type": "display_data"
    },
    {
     "data": {
      "image/png": "[encoded data removed]",
      "text/plain": [
       "Plot with title \"Model Loss\""
      ]
     },
     "metadata": {},
     "output_type": "display_data"
    },
    {
     "data": {
      "image/png": "[encoded data removed]",
      "text/plain": [
       "Plot with title \"Model Accuracy\""
      ]
     },
     "metadata": {},
     "output_type": "display_data"
    }
   ],
   "source": [
    "#calculating time to measure the model run time using KERAS\n",
    "start_time <- Sys.time()\n",
    "model <- keras_model_sequential() \n",
    "model %>% \n",
    "  layer_conv_1d(filter=256,kernel_size=c(5), padding=\"same\", input_shape = c(256,1)) %>% \n",
    "  layer_activation(\"relu\") %>%  \n",
    "  layer_conv_1d(filter=32, kernel_size=c(3)) %>%\n",
    "  layer_activation(\"relu\") %>%\n",
    "  layer_max_pooling_1d(pool_size=c(3)) %>%\n",
    "  #flatten the input  \n",
    "  layer_flatten() %>% \n",
    "  layer_dense(units = 1024, activation = 'relu') %>% \n",
    "  layer_dropout(rate = 0.1) %>% \n",
    "  layer_dense(units = 512, activation = 'relu') %>%\n",
    "  layer_dropout(rate = 0.1) %>%\n",
    "  layer_dense(units = 256, activation = 'relu') %>%\n",
    "  layer_dropout(rate = 0.1) %>%\n",
    "  layer_dense(units = 128, activation = 'relu') %>%\n",
    "  layer_dropout(rate = 0.1) %>%\n",
    "  layer_dense(units = 10, activation = 'sigmoid')\n",
    "summary(model)\n",
    "model %>% compile(\n",
    "  loss = \"sparse_categorical_crossentropy\" ,      #\"categorical_crossentropy\"\n",
    "  optimizer = 'adam',   # optimizer_rmsprop(),\n",
    "  metrics = c(\"accuracy\")\n",
    ")\n",
    "history <- model %>% fit(\n",
    "  X_Train, Y_Train,\n",
    "  epochs = 10, batch_size = 128, \n",
    "  validation_split = 0.02,\n",
    " verbose = 2,\n",
    "    shuffle=\"True\"\n",
    ")\n",
    "plot(history)\n",
    "model %>% evaluate(X_Test, Y_Test,verbose = 1)\n",
    "predicted_Y_Test <- model %>% predict_classes(X_Test)\n",
    "table(predicted_Y_Test, Y_Test)\n",
    "\n",
    "end_time <- Sys.time()\n",
    "\n",
    "run_time <- end_time - start_time\n",
    "print(\"--------------------------------------------------------------------------------------\")\n",
    "paste(\"Total run time for Keras model\", run_time, \" seconds\")\n",
    "\n",
    "paste(\"RMSE : \", sqrt(mean((data.frame(predicted_Y_Test) - data.frame(Y_Test))^2)))\n",
    "\n",
    "# Plot the model loss\n",
    "plot(history$metrics$loss, main=\"Model Loss\", xlab = \"epoch\", ylab=\"loss\", col=\"blue\", type=\"l\")\n",
    "lines(history$metrics$val_loss, col=\"green\")\n",
    "legend(\"topright\", c(\"train\",\"test\"), col=c(\"blue\", \"green\"), lty=c(1,1))\n",
    "\n",
    "# Plot the model accuracy\n",
    "plot(history$metrics$acc, main=\"Model Accuracy\", xlab = \"epoch\", ylab=\"accuracy\", col=\"blue\", type=\"l\")\n",
    "lines(history$metrics$val_acc, col=\"green\")\n",
    "legend(\"bottomright\", c(\"train\",\"test\"), col=c(\"blue\", \"green\"), lty=c(1,1))"
   ]
  },
  {
   "cell_type": "code",
   "execution_count": null,
   "metadata": {
    "collapsed": true
   },
   "outputs": [],
   "source": []
  }
 ],
 "metadata": {
  "kernelspec": {
   "display_name": "R",
   "language": "R",
   "name": "ir"
  },
  "language_info": {
   "codemirror_mode": "r",
   "file_extension": ".r",
   "mimetype": "text/x-r-source",
   "name": "R",
   "pygments_lexer": "r",
   "version": "3.4.1"
  }
 },
 "nbformat": 4,
 "nbformat_minor": 2
}
